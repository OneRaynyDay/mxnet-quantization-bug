{
 "cells": [
  {
   "cell_type": "code",
   "execution_count": 1,
   "metadata": {},
   "outputs": [],
   "source": [
    "import mxnet as mx"
   ]
  },
  {
   "cell_type": "code",
   "execution_count": 2,
   "metadata": {},
   "outputs": [],
   "source": [
    "mnist = mx.test_utils.get_mnist()\n",
    "mx.random.seed(1)\n",
    "batch_size = 32\n",
    "ctx = mx.gpu()\n",
    "nd_iter = mx.io.NDArrayIter(mnist['train_data'], mnist['train_label'], batch_size)"
   ]
  },
  {
   "cell_type": "code",
   "execution_count": 6,
   "metadata": {},
   "outputs": [],
   "source": [
    "data = mx.sym.Variable('data')\n",
    "conv1= mx.symbol.Convolution(data = data, name='conv1', num_filter=32, kernel=(3,3), stride=(2,2))\n",
    "bn1 = mx.symbol.BatchNorm(data = conv1, name=\"bn1\")\n",
    "act1 = mx.symbol.Activation(data = bn1, name='relu1', act_type=\"relu\")\n",
    "mp1 = mx.symbol.Pooling(data = act1, name = 'mp1', kernel=(2,2), stride=(2,2), pool_type='max')\n",
    "\n",
    "conv2= mx.symbol.Convolution(data = mp1, name='conv2', num_filter=32, kernel=(3,3), stride=(2,2))\n",
    "bn2 = mx.symbol.BatchNorm(data = conv2, name=\"bn2\")\n",
    "act2 = mx.symbol.Activation(data = bn2, name='relu2', act_type=\"relu\")\n",
    "mp2 = mx.symbol.Pooling(data = act2, name = 'mp2', kernel=(2,2), stride=(2,2), pool_type='max')\n",
    "\n",
    "fl = mx.symbol.Flatten(data = mp2, name=\"flatten\")\n",
    "fc2 = mx.symbol.FullyConnected(data = fl, name='fc2', num_hidden=10)\n",
    "softmax = mx.symbol.SoftmaxOutput(data = fc2, name = 'softmax')\n",
    "mod = mx.mod.Module(softmax)  # create a module by given a Symbol"
   ]
  },
  {
   "cell_type": "code",
   "execution_count": 7,
   "metadata": {},
   "outputs": [],
   "source": [
    "# mod.bind(data_shapes=nd_iter.provide_data,\n",
    "#          label_shapes=nd_iter.provide_label) # create memory by given input shapes\n",
    "# mod.init_params() # initial parameters with the default random initializer"
   ]
  },
  {
   "cell_type": "code",
   "execution_count": 8,
   "metadata": {},
   "outputs": [
    {
     "data": {
      "text/plain": [
       "\n",
       "[[1.51827175e-03 3.75562850e-05 4.08565771e-04 ... 1.76200716e-04\n",
       "  2.09606532e-03 1.40904053e-03]\n",
       " [9.99950528e-01 1.79718924e-07 7.49523770e-06 ... 1.34945294e-05\n",
       "  5.62577497e-06 4.28289377e-06]\n",
       " [1.05948027e-04 3.55961956e-02 5.65566728e-03 ... 6.39976040e-02\n",
       "  2.60407658e-04 2.31357361e-03]\n",
       " ...\n",
       " [2.06898003e-05 3.86129977e-05 6.13283992e-05 ... 2.59731692e-04\n",
       "  7.45705256e-05 1.56577618e-03]\n",
       " [8.47095326e-02 1.28737956e-04 6.06133690e-05 ... 3.17675695e-05\n",
       "  8.27927329e-03 7.11440734e-05]\n",
       " [1.63099077e-03 5.72913405e-06 1.20691366e-04 ... 3.23227978e-05\n",
       "  9.75111365e-01 1.94353294e-02]]\n",
       "<NDArray 60000x10 @cpu(0)>"
      ]
     },
     "execution_count": 8,
     "metadata": {},
     "output_type": "execute_result"
    }
   ],
   "source": [
    "mod.fit(nd_iter, num_epoch=10) # train\n",
    "mod.predict(nd_iter) # predict on new data"
   ]
  },
  {
   "cell_type": "code",
   "execution_count": 9,
   "metadata": {},
   "outputs": [],
   "source": [
    "mod.save_checkpoint('mod', 0)"
   ]
  },
  {
   "cell_type": "code",
   "execution_count": 10,
   "metadata": {},
   "outputs": [],
   "source": [
    "sym, arg_params, aux_params = mx.model.load_checkpoint('mod', 0)"
   ]
  },
  {
   "cell_type": "code",
   "execution_count": 11,
   "metadata": {},
   "outputs": [],
   "source": [
    "import logging\n",
    "nd_iter.reset()\n",
    "qsym, qarg_params, qaux_params = mx.contrib.quantization.quantize_model(sym=sym, arg_params=arg_params, aux_params=aux_params,\n",
    "                                                ctx=ctx, calib_data=nd_iter, logger=logging)"
   ]
  },
  {
   "cell_type": "code",
   "execution_count": 9,
   "metadata": {},
   "outputs": [],
   "source": [
    "mod = mx.mod.Module(qsym, context=ctx)"
   ]
  },
  {
   "cell_type": "code",
   "execution_count": null,
   "metadata": {},
   "outputs": [],
   "source": [
    "nd_iter.reset()\n",
    "mod.bind(for_training=False,\n",
    "         data_shapes=nd_iter.provide_data,\n",
    "         label_shapes=nd_iter.provide_label)"
   ]
  },
  {
   "cell_type": "code",
   "execution_count": null,
   "metadata": {},
   "outputs": [],
   "source": [
    "mod.set_params(arg_params, aux_params)"
   ]
  }
 ],
 "metadata": {
  "kernelspec": {
   "display_name": "Python 3",
   "language": "python",
   "name": "python3"
  },
  "language_info": {
   "codemirror_mode": {
    "name": "ipython",
    "version": 3
   },
   "file_extension": ".py",
   "mimetype": "text/x-python",
   "name": "python",
   "nbconvert_exporter": "python",
   "pygments_lexer": "ipython3",
   "version": "3.6.3"
  }
 },
 "nbformat": 4,
 "nbformat_minor": 2
}
