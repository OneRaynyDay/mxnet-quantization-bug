{
 "cells": [
  {
   "cell_type": "code",
   "execution_count": 1,
   "metadata": {},
   "outputs": [],
   "source": [
    "import mxnet as mx"
   ]
  },
  {
   "cell_type": "code",
   "execution_count": 2,
   "metadata": {},
   "outputs": [],
   "source": [
    "mnist = mx.test_utils.get_mnist()\n",
    "mx.random.seed(1)\n",
    "batch_size = 32\n",
    "ctx = mx.cpu()\n",
    "nd_iter = mx.io.NDArrayIter(mnist['train_data'], mnist['train_label'], batch_size)"
   ]
  },
  {
   "cell_type": "code",
   "execution_count": 3,
   "metadata": {},
   "outputs": [],
   "source": [
    "data = mx.sym.Variable('data')\n",
    "conv1= mx.symbol.Convolution(data = data, name='conv1', num_filter=32, kernel=(3,3), stride=(2,2))\n",
    "bn1 = mx.symbol.BatchNorm(data = conv1, name=\"bn1\")\n",
    "act1 = mx.symbol.Activation(data = bn1, name='relu1', act_type=\"relu\")\n",
    "mp1 = mx.symbol.Pooling(data = act1, name = 'mp1', kernel=(2,2), stride=(2,2), pool_type='max')\n",
    "\n",
    "conv2= mx.symbol.Convolution(data = mp1, name='conv2', num_filter=32, kernel=(3,3), stride=(2,2))\n",
    "bn2 = mx.symbol.BatchNorm(data = conv2, name=\"bn2\")\n",
    "act2 = mx.symbol.Activation(data = bn2, name='relu2', act_type=\"relu\")\n",
    "mp2 = mx.symbol.Pooling(data = act2, name = 'mp2', kernel=(2,2), stride=(2,2), pool_type='max')\n",
    "\n",
    "fl = mx.symbol.Flatten(data = mp2, name=\"flatten\")\n",
    "fc2 = mx.symbol.FullyConnected(data = fl, name='fc2', num_hidden=10)\n",
    "softmax = mx.symbol.SoftmaxOutput(data = fc2, name = 'softmax')\n",
    "mod = mx.mod.Module(softmax)  # create a module by given a Symbol"
   ]
  },
  {
   "cell_type": "code",
   "execution_count": 12,
   "metadata": {},
   "outputs": [
    {
     "data": {
      "text/plain": [
       "['data',\n",
       " 'conv1_weight',\n",
       " 'conv1_bias',\n",
       " 'conv1_output',\n",
       " 'bn1_gamma',\n",
       " 'bn1_beta',\n",
       " 'bn1_moving_mean',\n",
       " 'bn1_moving_var',\n",
       " 'bn1_output',\n",
       " 'relu1_output',\n",
       " 'mp1_output',\n",
       " 'conv2_weight',\n",
       " 'conv2_bias',\n",
       " 'conv2_output',\n",
       " 'bn2_gamma',\n",
       " 'bn2_beta',\n",
       " 'bn2_moving_mean',\n",
       " 'bn2_moving_var',\n",
       " 'bn2_output',\n",
       " 'relu2_output',\n",
       " 'mp2_output',\n",
       " 'flatten_output',\n",
       " 'fc2_weight',\n",
       " 'fc2_bias',\n",
       " 'fc2_output',\n",
       " 'softmax_label',\n",
       " 'softmax_output']"
      ]
     },
     "execution_count": 12,
     "metadata": {},
     "output_type": "execute_result"
    }
   ],
   "source": [
    "softmax.get_internals().list_outputs()"
   ]
  },
  {
   "cell_type": "code",
   "execution_count": 4,
   "metadata": {},
   "outputs": [],
   "source": [
    "# mod.bind(data_shapes=nd_iter.provide_data,\n",
    "#          label_shapes=nd_iter.provide_label) # create memory by given input shapes\n",
    "# mod.init_params() # initial parameters with the default random initializer"
   ]
  },
  {
   "cell_type": "code",
   "execution_count": 4,
   "metadata": {},
   "outputs": [
    {
     "data": {
      "text/plain": [
       "\n",
       "[[2.8249732e-04 8.5811716e-06 1.9661812e-04 ... 6.7650355e-05\n",
       "  1.2813369e-03 7.9308427e-04]\n",
       " [9.9995291e-01 1.3227522e-07 1.2726049e-05 ... 7.0621363e-06\n",
       "  4.6420523e-06 2.0200198e-06]\n",
       " [9.8071301e-05 1.7094301e-02 4.5305174e-03 ... 4.4743259e-02\n",
       "  3.1286711e-04 3.2336875e-03]\n",
       " ...\n",
       " [1.5833242e-05 1.3727446e-05 3.5502053e-05 ... 1.7425697e-04\n",
       "  5.5069049e-05 1.5886332e-03]\n",
       " [5.1516660e-02 9.4310803e-05 7.4359792e-05 ... 2.8431865e-05\n",
       "  6.8629393e-03 6.4306769e-05]\n",
       " [1.5746262e-03 5.8110127e-06 1.7276568e-04 ... 4.3077554e-05\n",
       "  9.8375678e-01 1.2043254e-02]]\n",
       "<NDArray 60000x10 @cpu(0)>"
      ]
     },
     "execution_count": 4,
     "metadata": {},
     "output_type": "execute_result"
    }
   ],
   "source": [
    "mod.fit(nd_iter, num_epoch=10) # train\n",
    "mod.predict(nd_iter) # predict on new data"
   ]
  },
  {
   "cell_type": "code",
   "execution_count": 5,
   "metadata": {},
   "outputs": [],
   "source": [
    "mod.save_checkpoint('mod', 0)"
   ]
  },
  {
   "cell_type": "code",
   "execution_count": 6,
   "metadata": {},
   "outputs": [],
   "source": [
    "sym, arg_params, aux_params = mx.model.load_checkpoint('mod', 0)"
   ]
  },
  {
   "cell_type": "code",
   "execution_count": null,
   "metadata": {},
   "outputs": [],
   "source": [
    "import logging\n",
    "nd_iter.reset()\n",
    "qsym, qarg_params, qaux_params = mx.contrib.quantization.quantize_model(sym=sym, \n",
    "                                                                        arg_params=arg_params, \n",
    "                                                                        aux_params=aux_params,\n",
    "                                                                        excluded_sym_names=['conv1'],\n",
    "                                                ctx=ctx, calib_data=nd_iter, logger=logging)"
   ]
  },
  {
   "cell_type": "code",
   "execution_count": 8,
   "metadata": {},
   "outputs": [],
   "source": [
    "mod = mx.mod.Module(qsym, context=ctx)"
   ]
  },
  {
   "cell_type": "code",
   "execution_count": 9,
   "metadata": {},
   "outputs": [
    {
     "ename": "RuntimeError",
     "evalue": "simple_bind error. Arguments:\ndata: (32, 1, 28, 28)\nsoftmax_label: (32,)\nError in operator quantized_conv1: [09:55:24] src/operator/quantization/quantized_conv.cc:50: Check failed: dshape[C] % 4 == 0U (1 vs. 0) for 8bit cudnn conv, the number of channel must be multiple of 4\n\nStack trace returned 10 entries:\n[bt] (0) 0   libmxnet.so                         0x000000010a205684 libmxnet.so + 26244\n[bt] (1) 1   libmxnet.so                         0x000000010a20543f libmxnet.so + 25663\n[bt] (2) 2   libmxnet.so                         0x000000010a49b18d libmxnet.so + 2736525\n[bt] (3) 3   libmxnet.so                         0x000000010b32b4ea MXNDListFree + 310682\n[bt] (4) 4   libmxnet.so                         0x000000010b323b0c MXNDListFree + 279484\n[bt] (5) 5   libmxnet.so                         0x000000010b318586 MXNDListFree + 233014\n[bt] (6) 6   libmxnet.so                         0x000000010b31bf3a MXNDListFree + 247786\n[bt] (7) 7   libmxnet.so                         0x000000010b2ad130 MXExecutorSimpleBind + 8656\n[bt] (8) 8   _ctypes.cpython-36m-darwin.so       0x0000000107e7fd17 ffi_call_unix64 + 79\n[bt] (9) 9   python                              0x00007fff5bff9cf0 __progname + 140730441894984\n\n",
     "output_type": "error",
     "traceback": [
      "\u001b[0;31m---------------\u001b[0m",
      "\u001b[0;31mMXNetError\u001b[0mTraceback (most recent call last)",
      "\u001b[0;32m~/anaconda3/envs/idp3/lib/python3.6/site-packages/mxnet/symbol/symbol.py\u001b[0m in \u001b[0;36msimple_bind\u001b[0;34m(self, ctx, grad_req, type_dict, stype_dict, group2ctx, shared_arg_names, shared_exec, shared_buffer, **kwargs)\u001b[0m\n\u001b[1;32m   1512\u001b[0m                                                  \u001b[0mshared_exec_handle\u001b[0m\u001b[0;34m,\u001b[0m\u001b[0;34m\u001b[0m\u001b[0m\n\u001b[0;32m-> 1513\u001b[0;31m                                                  ctypes.byref(exe_handle)))\n\u001b[0m\u001b[1;32m   1514\u001b[0m         \u001b[0;32mexcept\u001b[0m \u001b[0mMXNetError\u001b[0m \u001b[0;32mas\u001b[0m \u001b[0me\u001b[0m\u001b[0;34m:\u001b[0m\u001b[0;34m\u001b[0m\u001b[0m\n",
      "\u001b[0;32m~/anaconda3/envs/idp3/lib/python3.6/site-packages/mxnet/base.py\u001b[0m in \u001b[0;36mcheck_call\u001b[0;34m(ret)\u001b[0m\n\u001b[1;32m    148\u001b[0m     \u001b[0;32mif\u001b[0m \u001b[0mret\u001b[0m \u001b[0;34m!=\u001b[0m \u001b[0;36m0\u001b[0m\u001b[0;34m:\u001b[0m\u001b[0;34m\u001b[0m\u001b[0m\n\u001b[0;32m--> 149\u001b[0;31m         \u001b[0;32mraise\u001b[0m \u001b[0mMXNetError\u001b[0m\u001b[0;34m(\u001b[0m\u001b[0mpy_str\u001b[0m\u001b[0;34m(\u001b[0m\u001b[0m_LIB\u001b[0m\u001b[0;34m.\u001b[0m\u001b[0mMXGetLastError\u001b[0m\u001b[0;34m(\u001b[0m\u001b[0;34m)\u001b[0m\u001b[0;34m)\u001b[0m\u001b[0;34m)\u001b[0m\u001b[0;34m\u001b[0m\u001b[0m\n\u001b[0m\u001b[1;32m    150\u001b[0m \u001b[0;34m\u001b[0m\u001b[0m\n",
      "\u001b[0;31mMXNetError\u001b[0m: Error in operator quantized_conv1: [09:55:24] src/operator/quantization/quantized_conv.cc:50: Check failed: dshape[C] % 4 == 0U (1 vs. 0) for 8bit cudnn conv, the number of channel must be multiple of 4\n\nStack trace returned 10 entries:\n[bt] (0) 0   libmxnet.so                         0x000000010a205684 libmxnet.so + 26244\n[bt] (1) 1   libmxnet.so                         0x000000010a20543f libmxnet.so + 25663\n[bt] (2) 2   libmxnet.so                         0x000000010a49b18d libmxnet.so + 2736525\n[bt] (3) 3   libmxnet.so                         0x000000010b32b4ea MXNDListFree + 310682\n[bt] (4) 4   libmxnet.so                         0x000000010b323b0c MXNDListFree + 279484\n[bt] (5) 5   libmxnet.so                         0x000000010b318586 MXNDListFree + 233014\n[bt] (6) 6   libmxnet.so                         0x000000010b31bf3a MXNDListFree + 247786\n[bt] (7) 7   libmxnet.so                         0x000000010b2ad130 MXExecutorSimpleBind + 8656\n[bt] (8) 8   _ctypes.cpython-36m-darwin.so       0x0000000107e7fd17 ffi_call_unix64 + 79\n[bt] (9) 9   python                              0x00007fff5bff9cf0 __progname + 140730441894984\n\n",
      "\nDuring handling of the above exception, another exception occurred:\n",
      "\u001b[0;31mRuntimeError\u001b[0mTraceback (most recent call last)",
      "\u001b[0;32m<ipython-input-9-91e8704b1ba9>\u001b[0m in \u001b[0;36m<module>\u001b[0;34m()\u001b[0m\n\u001b[1;32m      2\u001b[0m mod.bind(for_training=False,\n\u001b[1;32m      3\u001b[0m          \u001b[0mdata_shapes\u001b[0m\u001b[0;34m=\u001b[0m\u001b[0mnd_iter\u001b[0m\u001b[0;34m.\u001b[0m\u001b[0mprovide_data\u001b[0m\u001b[0;34m,\u001b[0m\u001b[0;34m\u001b[0m\u001b[0m\n\u001b[0;32m----> 4\u001b[0;31m          label_shapes=nd_iter.provide_label)\n\u001b[0m",
      "\u001b[0;32m~/anaconda3/envs/idp3/lib/python3.6/site-packages/mxnet/module/module.py\u001b[0m in \u001b[0;36mbind\u001b[0;34m(self, data_shapes, label_shapes, for_training, inputs_need_grad, force_rebind, shared_module, grad_req)\u001b[0m\n\u001b[1;32m    428\u001b[0m                                                      \u001b[0mfixed_param_names\u001b[0m\u001b[0;34m=\u001b[0m\u001b[0mself\u001b[0m\u001b[0;34m.\u001b[0m\u001b[0m_fixed_param_names\u001b[0m\u001b[0;34m,\u001b[0m\u001b[0;34m\u001b[0m\u001b[0m\n\u001b[1;32m    429\u001b[0m                                                      \u001b[0mgrad_req\u001b[0m\u001b[0;34m=\u001b[0m\u001b[0mgrad_req\u001b[0m\u001b[0;34m,\u001b[0m \u001b[0mgroup2ctxs\u001b[0m\u001b[0;34m=\u001b[0m\u001b[0mself\u001b[0m\u001b[0;34m.\u001b[0m\u001b[0m_group2ctxs\u001b[0m\u001b[0;34m,\u001b[0m\u001b[0;34m\u001b[0m\u001b[0m\n\u001b[0;32m--> 430\u001b[0;31m                                                      state_names=self._state_names)\n\u001b[0m\u001b[1;32m    431\u001b[0m         \u001b[0mself\u001b[0m\u001b[0;34m.\u001b[0m\u001b[0m_total_exec_bytes\u001b[0m \u001b[0;34m=\u001b[0m \u001b[0mself\u001b[0m\u001b[0;34m.\u001b[0m\u001b[0m_exec_group\u001b[0m\u001b[0;34m.\u001b[0m\u001b[0m_total_exec_bytes\u001b[0m\u001b[0;34m\u001b[0m\u001b[0m\n\u001b[1;32m    432\u001b[0m         \u001b[0;32mif\u001b[0m \u001b[0mshared_module\u001b[0m \u001b[0;32mis\u001b[0m \u001b[0;32mnot\u001b[0m \u001b[0;32mNone\u001b[0m\u001b[0;34m:\u001b[0m\u001b[0;34m\u001b[0m\u001b[0m\n",
      "\u001b[0;32m~/anaconda3/envs/idp3/lib/python3.6/site-packages/mxnet/module/executor_group.py\u001b[0m in \u001b[0;36m__init__\u001b[0;34m(self, symbol, contexts, workload, data_shapes, label_shapes, param_names, for_training, inputs_need_grad, shared_group, logger, fixed_param_names, grad_req, state_names, group2ctxs)\u001b[0m\n\u001b[1;32m    263\u001b[0m         \u001b[0mself\u001b[0m\u001b[0;34m.\u001b[0m\u001b[0mnum_outputs\u001b[0m \u001b[0;34m=\u001b[0m \u001b[0mlen\u001b[0m\u001b[0;34m(\u001b[0m\u001b[0mself\u001b[0m\u001b[0;34m.\u001b[0m\u001b[0msymbol\u001b[0m\u001b[0;34m.\u001b[0m\u001b[0mlist_outputs\u001b[0m\u001b[0;34m(\u001b[0m\u001b[0;34m)\u001b[0m\u001b[0;34m)\u001b[0m\u001b[0;34m\u001b[0m\u001b[0m\n\u001b[1;32m    264\u001b[0m \u001b[0;34m\u001b[0m\u001b[0m\n\u001b[0;32m--> 265\u001b[0;31m         \u001b[0mself\u001b[0m\u001b[0;34m.\u001b[0m\u001b[0mbind_exec\u001b[0m\u001b[0;34m(\u001b[0m\u001b[0mdata_shapes\u001b[0m\u001b[0;34m,\u001b[0m \u001b[0mlabel_shapes\u001b[0m\u001b[0;34m,\u001b[0m \u001b[0mshared_group\u001b[0m\u001b[0;34m)\u001b[0m\u001b[0;34m\u001b[0m\u001b[0m\n\u001b[0m\u001b[1;32m    266\u001b[0m \u001b[0;34m\u001b[0m\u001b[0m\n\u001b[1;32m    267\u001b[0m     \u001b[0;32mdef\u001b[0m \u001b[0mdecide_slices\u001b[0m\u001b[0;34m(\u001b[0m\u001b[0mself\u001b[0m\u001b[0;34m,\u001b[0m \u001b[0mdata_shapes\u001b[0m\u001b[0;34m)\u001b[0m\u001b[0;34m:\u001b[0m\u001b[0;34m\u001b[0m\u001b[0m\n",
      "\u001b[0;32m~/anaconda3/envs/idp3/lib/python3.6/site-packages/mxnet/module/executor_group.py\u001b[0m in \u001b[0;36mbind_exec\u001b[0;34m(self, data_shapes, label_shapes, shared_group, reshape)\u001b[0m\n\u001b[1;32m    359\u001b[0m             \u001b[0;32melse\u001b[0m\u001b[0;34m:\u001b[0m\u001b[0;34m\u001b[0m\u001b[0m\n\u001b[1;32m    360\u001b[0m                 self.execs.append(self._bind_ith_exec(i, data_shapes_i, label_shapes_i,\n\u001b[0;32m--> 361\u001b[0;31m                                                       shared_group))\n\u001b[0m\u001b[1;32m    362\u001b[0m \u001b[0;34m\u001b[0m\u001b[0m\n\u001b[1;32m    363\u001b[0m         \u001b[0mself\u001b[0m\u001b[0;34m.\u001b[0m\u001b[0mdata_shapes\u001b[0m \u001b[0;34m=\u001b[0m \u001b[0mdata_shapes\u001b[0m\u001b[0;34m\u001b[0m\u001b[0m\n",
      "\u001b[0;32m~/anaconda3/envs/idp3/lib/python3.6/site-packages/mxnet/module/executor_group.py\u001b[0m in \u001b[0;36m_bind_ith_exec\u001b[0;34m(self, i, data_shapes, label_shapes, shared_group)\u001b[0m\n\u001b[1;32m    637\u001b[0m                                            \u001b[0mtype_dict\u001b[0m\u001b[0;34m=\u001b[0m\u001b[0minput_types\u001b[0m\u001b[0;34m,\u001b[0m \u001b[0mshared_arg_names\u001b[0m\u001b[0;34m=\u001b[0m\u001b[0mself\u001b[0m\u001b[0;34m.\u001b[0m\u001b[0mparam_names\u001b[0m\u001b[0;34m,\u001b[0m\u001b[0;34m\u001b[0m\u001b[0m\n\u001b[1;32m    638\u001b[0m                                            \u001b[0mshared_exec\u001b[0m\u001b[0;34m=\u001b[0m\u001b[0mshared_exec\u001b[0m\u001b[0;34m,\u001b[0m \u001b[0mgroup2ctx\u001b[0m\u001b[0;34m=\u001b[0m\u001b[0mgroup2ctx\u001b[0m\u001b[0;34m,\u001b[0m\u001b[0;34m\u001b[0m\u001b[0m\n\u001b[0;32m--> 639\u001b[0;31m                                            shared_buffer=shared_data_arrays, **input_shapes)\n\u001b[0m\u001b[1;32m    640\u001b[0m         \u001b[0mself\u001b[0m\u001b[0;34m.\u001b[0m\u001b[0m_total_exec_bytes\u001b[0m \u001b[0;34m+=\u001b[0m \u001b[0mint\u001b[0m\u001b[0;34m(\u001b[0m\u001b[0mexecutor\u001b[0m\u001b[0;34m.\u001b[0m\u001b[0mdebug_str\u001b[0m\u001b[0;34m(\u001b[0m\u001b[0;34m)\u001b[0m\u001b[0;34m.\u001b[0m\u001b[0msplit\u001b[0m\u001b[0;34m(\u001b[0m\u001b[0;34m'\\n'\u001b[0m\u001b[0;34m)\u001b[0m\u001b[0;34m[\u001b[0m\u001b[0;34m-\u001b[0m\u001b[0;36m3\u001b[0m\u001b[0;34m]\u001b[0m\u001b[0;34m.\u001b[0m\u001b[0msplit\u001b[0m\u001b[0;34m(\u001b[0m\u001b[0;34m)\u001b[0m\u001b[0;34m[\u001b[0m\u001b[0;36m1\u001b[0m\u001b[0;34m]\u001b[0m\u001b[0;34m)\u001b[0m\u001b[0;34m\u001b[0m\u001b[0m\n\u001b[1;32m    641\u001b[0m         \u001b[0;32mreturn\u001b[0m \u001b[0mexecutor\u001b[0m\u001b[0;34m\u001b[0m\u001b[0m\n",
      "\u001b[0;32m~/anaconda3/envs/idp3/lib/python3.6/site-packages/mxnet/symbol/symbol.py\u001b[0m in \u001b[0;36msimple_bind\u001b[0;34m(self, ctx, grad_req, type_dict, stype_dict, group2ctx, shared_arg_names, shared_exec, shared_buffer, **kwargs)\u001b[0m\n\u001b[1;32m   1517\u001b[0m                 \u001b[0merror_msg\u001b[0m \u001b[0;34m+=\u001b[0m \u001b[0;34m\"%s: %s\\n\"\u001b[0m \u001b[0;34m%\u001b[0m \u001b[0;34m(\u001b[0m\u001b[0mk\u001b[0m\u001b[0;34m,\u001b[0m \u001b[0mv\u001b[0m\u001b[0;34m)\u001b[0m\u001b[0;34m\u001b[0m\u001b[0m\n\u001b[1;32m   1518\u001b[0m             \u001b[0merror_msg\u001b[0m \u001b[0;34m+=\u001b[0m \u001b[0;34m\"%s\"\u001b[0m \u001b[0;34m%\u001b[0m \u001b[0me\u001b[0m\u001b[0;34m\u001b[0m\u001b[0m\n\u001b[0;32m-> 1519\u001b[0;31m             \u001b[0;32mraise\u001b[0m \u001b[0mRuntimeError\u001b[0m\u001b[0;34m(\u001b[0m\u001b[0merror_msg\u001b[0m\u001b[0;34m)\u001b[0m\u001b[0;34m\u001b[0m\u001b[0m\n\u001b[0m\u001b[1;32m   1520\u001b[0m \u001b[0;34m\u001b[0m\u001b[0m\n\u001b[1;32m   1521\u001b[0m         \u001b[0;31m# update shared_buffer\u001b[0m\u001b[0;34m\u001b[0m\u001b[0;34m\u001b[0m\u001b[0m\n",
      "\u001b[0;31mRuntimeError\u001b[0m: simple_bind error. Arguments:\ndata: (32, 1, 28, 28)\nsoftmax_label: (32,)\nError in operator quantized_conv1: [09:55:24] src/operator/quantization/quantized_conv.cc:50: Check failed: dshape[C] % 4 == 0U (1 vs. 0) for 8bit cudnn conv, the number of channel must be multiple of 4\n\nStack trace returned 10 entries:\n[bt] (0) 0   libmxnet.so                         0x000000010a205684 libmxnet.so + 26244\n[bt] (1) 1   libmxnet.so                         0x000000010a20543f libmxnet.so + 25663\n[bt] (2) 2   libmxnet.so                         0x000000010a49b18d libmxnet.so + 2736525\n[bt] (3) 3   libmxnet.so                         0x000000010b32b4ea MXNDListFree + 310682\n[bt] (4) 4   libmxnet.so                         0x000000010b323b0c MXNDListFree + 279484\n[bt] (5) 5   libmxnet.so                         0x000000010b318586 MXNDListFree + 233014\n[bt] (6) 6   libmxnet.so                         0x000000010b31bf3a MXNDListFree + 247786\n[bt] (7) 7   libmxnet.so                         0x000000010b2ad130 MXExecutorSimpleBind + 8656\n[bt] (8) 8   _ctypes.cpython-36m-darwin.so       0x0000000107e7fd17 ffi_call_unix64 + 79\n[bt] (9) 9   python                              0x00007fff5bff9cf0 __progname + 140730441894984\n\n"
     ]
    }
   ],
   "source": [
    "nd_iter.reset()\n",
    "mod.bind(for_training=False,\n",
    "         data_shapes=nd_iter.provide_data,\n",
    "         label_shapes=nd_iter.provide_label)"
   ]
  },
  {
   "cell_type": "code",
   "execution_count": null,
   "metadata": {},
   "outputs": [],
   "source": [
    "mod.set_params(arg_params, aux_params)"
   ]
  },
  {
   "cell_type": "code",
   "execution_count": null,
   "metadata": {},
   "outputs": [],
   "source": []
  }
 ],
 "metadata": {
  "kernelspec": {
   "display_name": "Python 3",
   "language": "python",
   "name": "python3"
  },
  "language_info": {
   "codemirror_mode": {
    "name": "ipython",
    "version": 3
   },
   "file_extension": ".py",
   "mimetype": "text/x-python",
   "name": "python",
   "nbconvert_exporter": "python",
   "pygments_lexer": "ipython3",
   "version": "3.6.3"
  }
 },
 "nbformat": 4,
 "nbformat_minor": 2
}
