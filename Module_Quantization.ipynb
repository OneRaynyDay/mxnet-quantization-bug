{
 "cells": [
  {
   "cell_type": "code",
   "execution_count": 1,
   "metadata": {},
   "outputs": [],
   "source": [
    "import mxnet as mx"
   ]
  },
  {
   "cell_type": "code",
   "execution_count": 2,
   "metadata": {},
   "outputs": [],
   "source": [
    "mnist = mx.test_utils.get_mnist()\n",
    "mx.random.seed(1)\n",
    "batch_size = 32\n",
    "ctx = mx.gpu()\n",
    "nd_iter = mx.io.NDArrayIter(mnist['train_data'], mnist['train_label'], batch_size)"
   ]
  },
  {
   "cell_type": "code",
   "execution_count": 3,
   "metadata": {},
   "outputs": [],
   "source": [
    "data = mx.sym.Variable('data')\n",
    "conv1= mx.symbol.Convolution(data = data, name='conv1', num_filter=32, kernel=(3,3), stride=(2,2))\n",
    "bn1 = mx.symbol.BatchNorm(data = conv1, name=\"bn1\")\n",
    "act1 = mx.symbol.Activation(data = bn1, name='relu1', act_type=\"relu\")\n",
    "mp1 = mx.symbol.Pooling(data = act1, name = 'mp1', kernel=(2,2), stride=(2,2), pool_type='max')\n",
    "\n",
    "conv2= mx.symbol.Convolution(data = mp1, name='conv2', num_filter=32, kernel=(3,3), stride=(2,2))\n",
    "bn2 = mx.symbol.BatchNorm(data = conv2, name=\"bn2\")\n",
    "act2 = mx.symbol.Activation(data = bn2, name='relu2', act_type=\"relu\")\n",
    "mp2 = mx.symbol.Pooling(data = act2, name = 'mp2', kernel=(2,2), stride=(2,2), pool_type='max')\n",
    "\n",
    "fl = mx.symbol.Flatten(data = mp2, name=\"flatten\")\n",
    "fc2 = mx.symbol.FullyConnected(data = fl, name='fc2', num_hidden=10)\n",
    "softmax = mx.symbol.SoftmaxOutput(data = fc2, name = 'softmax')\n",
    "mod = mx.mod.Module(softmax)  # create a module by given a Symbol"
   ]
  },
  {
   "cell_type": "code",
   "execution_count": 5,
   "metadata": {},
   "outputs": [
    {
     "data": {
      "text/plain": [
       "['data',\n",
       " 'conv1_weight',\n",
       " 'conv1_bias',\n",
       " 'conv1_output',\n",
       " 'bn1_gamma',\n",
       " 'bn1_beta',\n",
       " 'bn1_moving_mean',\n",
       " 'bn1_moving_var',\n",
       " 'bn1_output',\n",
       " 'relu1_output',\n",
       " 'mp1_output',\n",
       " 'conv2_weight',\n",
       " 'conv2_bias',\n",
       " 'conv2_output',\n",
       " 'bn2_gamma',\n",
       " 'bn2_beta',\n",
       " 'bn2_moving_mean',\n",
       " 'bn2_moving_var',\n",
       " 'bn2_output',\n",
       " 'relu2_output',\n",
       " 'mp2_output',\n",
       " 'flatten_output',\n",
       " 'fc2_weight',\n",
       " 'fc2_bias',\n",
       " 'fc2_output',\n",
       " 'softmax_label',\n",
       " 'softmax_output']"
      ]
     },
     "execution_count": 5,
     "metadata": {},
     "output_type": "execute_result"
    }
   ],
   "source": [
    "softmax.get_internals().list_outputs()"
   ]
  },
  {
   "cell_type": "code",
   "execution_count": 6,
   "metadata": {},
   "outputs": [],
   "source": [
    "# mod.bind(data_shapes=nd_iter.provide_data,\n",
    "#          label_shapes=nd_iter.provide_label) # create memory by given input shapes\n",
    "# mod.init_params() # initial parameters with the default random initializer"
   ]
  },
  {
   "cell_type": "code",
   "execution_count": 7,
   "metadata": {},
   "outputs": [
    {
     "data": {
      "text/plain": [
       "\n",
       "[[6.1429414e-04 2.2412802e-05 2.9679781e-04 ... 1.0351928e-04\n",
       "  1.1245396e-03 9.4142102e-04]\n",
       " [9.9995208e-01 1.5527347e-07 8.6388927e-06 ... 1.3666230e-05\n",
       "  5.2755231e-06 3.3966360e-06]\n",
       " [1.3097575e-04 4.4493489e-02 7.5362218e-03 ... 7.9570457e-02\n",
       "  4.3649800e-04 3.5894753e-03]\n",
       " ...\n",
       " [1.7041208e-05 1.5998005e-05 6.0236711e-05 ... 2.1640272e-04\n",
       "  5.8221180e-05 1.4509353e-03]\n",
       " [9.2443489e-02 7.2884701e-05 5.5742497e-05 ... 2.3522411e-05\n",
       "  8.3520580e-03 8.2647261e-05]\n",
       " [1.6435813e-03 8.2000879e-06 1.7693899e-04 ... 3.0793424e-05\n",
       "  9.8038894e-01 1.4470483e-02]]\n",
       "<NDArray 60000x10 @cpu(0)>"
      ]
     },
     "execution_count": 7,
     "metadata": {},
     "output_type": "execute_result"
    }
   ],
   "source": [
    "mod.fit(nd_iter, num_epoch=10) # train\n",
    "mod.predict(nd_iter) # predict on new data"
   ]
  },
  {
   "cell_type": "code",
   "execution_count": 8,
   "metadata": {},
   "outputs": [],
   "source": [
    "mod.save_checkpoint('mod', 0)"
   ]
  },
  {
   "cell_type": "code",
   "execution_count": 9,
   "metadata": {},
   "outputs": [],
   "source": [
    "sym, arg_params, aux_params = mx.model.load_checkpoint('mod', 0)"
   ]
  },
  {
   "cell_type": "code",
   "execution_count": 10,
   "metadata": {},
   "outputs": [],
   "source": [
    "import logging\n",
    "nd_iter.reset()\n",
    "qsym, qarg_params, qaux_params = mx.contrib.quantization.quantize_model(sym=sym, \n",
    "                                                                        arg_params=arg_params, \n",
    "                                                                        aux_params=aux_params,\n",
    "                                                                        excluded_sym_names=['conv1'],\n",
    "                                                ctx=ctx, calib_data=nd_iter, logger=logging)"
   ]
  },
  {
   "cell_type": "code",
   "execution_count": 11,
   "metadata": {},
   "outputs": [],
   "source": [
    "mod = mx.mod.Module(qsym, context=ctx)"
   ]
  },
  {
   "cell_type": "code",
   "execution_count": 12,
   "metadata": {},
   "outputs": [],
   "source": [
    "nd_iter.reset()\n",
    "mod.bind(for_training=False,\n",
    "         data_shapes=nd_iter.provide_data,\n",
    "         label_shapes=nd_iter.provide_label)"
   ]
  },
  {
   "cell_type": "code",
   "execution_count": 14,
   "metadata": {},
   "outputs": [],
   "source": [
    "mod.set_params(qarg_params, qaux_params)"
   ]
  },
  {
   "cell_type": "code",
   "execution_count": 15,
   "metadata": {},
   "outputs": [
    {
     "data": {
      "text/plain": [
       "\n",
       "[[7.4198929e-04 2.8709939e-05 3.2908368e-04 ... 1.4595370e-04\n",
       "  1.4609668e-03 1.2758268e-03]\n",
       " [9.9994636e-01 1.9554305e-07 8.6896416e-06 ... 1.7109787e-05\n",
       "  5.7870370e-06 3.8539906e-06]\n",
       " [1.4486852e-04 4.2915381e-02 6.4377384e-03 ... 8.4499799e-02\n",
       "  4.2831406e-04 3.2695699e-03]\n",
       " ...\n",
       " [1.9457897e-05 1.4838801e-05 6.5876840e-05 ... 2.2303322e-04\n",
       "  5.7528650e-05 1.4867883e-03]\n",
       " [1.1410713e-01 9.9354729e-05 7.5768985e-05 ... 3.3604683e-05\n",
       "  1.1399541e-02 1.3028237e-04]\n",
       " [1.6800329e-03 8.5157790e-06 2.2008461e-04 ... 3.3014912e-05\n",
       "  9.7994012e-01 1.4685692e-02]]\n",
       "<NDArray 60000x10 @gpu(0)>"
      ]
     },
     "execution_count": 15,
     "metadata": {},
     "output_type": "execute_result"
    }
   ],
   "source": [
    "nd_iter.reset()\n",
    "mod.predict(nd_iter)"
   ]
  },
  {
   "cell_type": "code",
   "execution_count": 16,
   "metadata": {},
   "outputs": [],
   "source": [
    "mod = mx.mod.Module(qsym, context=mx.cpu())"
   ]
  },
  {
   "cell_type": "markdown",
   "metadata": {},
   "source": [
    "# Kernel dies here upon using cpu()"
   ]
  },
  {
   "cell_type": "code",
   "execution_count": null,
   "metadata": {},
   "outputs": [],
   "source": [
    "nd_iter.reset()\n",
    "mod.bind(for_training=False,\n",
    "         data_shapes=nd_iter.provide_data,\n",
    "         label_shapes=nd_iter.provide_label)"
   ]
  },
  {
   "cell_type": "code",
   "execution_count": null,
   "metadata": {},
   "outputs": [],
   "source": []
  }
 ],
 "metadata": {
  "kernelspec": {
   "display_name": "Python (User)",
   "language": "python",
   "name": "user_python"
  },
  "language_info": {
   "codemirror_mode": {
    "name": "ipython",
    "version": 3
   },
   "file_extension": ".py",
   "mimetype": "text/x-python",
   "name": "python",
   "nbconvert_exporter": "python",
   "pygments_lexer": "ipython3",
   "version": "3.6.3"
  }
 },
 "nbformat": 4,
 "nbformat_minor": 2
}
