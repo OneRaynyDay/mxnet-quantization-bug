{
 "cells": [
  {
   "cell_type": "code",
   "execution_count": 1,
   "metadata": {},
   "outputs": [
    {
     "name": "stdout",
     "output_type": "stream",
     "text": [
      "1.3.0\n",
      "1.14.5\n"
     ]
    }
   ],
   "source": [
    "# Compiled with mkl.\n",
    "# To install the _exact_ same version, run:\n",
    "# pip install mxnet-mkl==1.3.0b20180711\n",
    "import mxnet as mx\n",
    "import numpy as np\n",
    "from mxnet import nd, autograd, gluon\n",
    "import multiprocessing\n",
    "\n",
    "print(mx.__version__)\n",
    "print(np.__version__)"
   ]
  },
  {
   "cell_type": "markdown",
   "metadata": {},
   "source": [
    "# Creating the Network"
   ]
  },
  {
   "cell_type": "code",
   "execution_count": null,
   "metadata": {},
   "outputs": [],
   "source": [
    "mnist = mx.test_utils.get_mnist()\n",
    "mx.random.seed(1)\n",
    "ctx = mx.cpu(0)\n",
    "batch_size = 64\n",
    "num_inputs = 784\n",
    "num_outputs = 10\n",
    "data_iter = mx.io.NDArrayIter(mnist['train_data'], mnist['train_label'], batch_size)\n",
    "num_fc = 512\n",
    "\n",
    "net = gluon.nn.HybridSequential()\n",
    "with net.name_scope():\n",
    "    net.add(gluon.nn.Conv2D(channels=8, kernel_size=5, activation='relu'))\n",
    "    net.add(gluon.nn.MaxPool2D(pool_size=2, strides=2))\n",
    "    net.add(gluon.nn.Conv2D(channels=16, kernel_size=5, activation='relu'))\n",
    "    net.add(gluon.nn.MaxPool2D(pool_size=2, strides=2))\n",
    "    net.add(gluon.nn.Flatten())\n",
    "    net.add(gluon.nn.Dense(num_fc, activation=\"relu\"))\n",
    "    net.add(gluon.nn.Dense(num_outputs))\n",
    "net.hybridize()\n",
    "# Parameter initialization\n",
    "net.collect_params().initialize(mx.init.Xavier(magnitude=2.24), ctx=ctx)\n",
    "trainer = gluon.Trainer(net.collect_params(), 'sgd', {'learning_rate': .1})\n",
    "softmax_cross_entropy = gluon.loss.SoftmaxCrossEntropyLoss()\n",
    "for i, batch in enumerate(data_iter):\n",
    "    data = batch.data[0].as_in_context(ctx)\n",
    "    label = batch.label[0].as_in_context(ctx)\n",
    "    with autograd.record():\n",
    "        output = net(data)\n",
    "        loss = softmax_cross_entropy(output, label)\n",
    "    loss.backward()\n",
    "    trainer.step(data.shape[0])\n",
    "data_iter.reset()"
   ]
  },
  {
   "cell_type": "markdown",
   "metadata": {},
   "source": [
    "# Listing the Internal Names"
   ]
  },
  {
   "cell_type": "code",
   "execution_count": 7,
   "metadata": {},
   "outputs": [
    {
     "name": "stdout",
     "output_type": "stream",
     "text": [
      "['data',\n",
      " 'hybridsequential0_conv0_weight',\n",
      " 'hybridsequential0_conv0_bias',\n",
      " 'hybridsequential0_conv0_fwd_output',\n",
      " 'hybridsequential0_conv0_relu_fwd_output',\n",
      " 'hybridsequential0_pool0_fwd_output',\n",
      " 'hybridsequential0_conv1_weight',\n",
      " 'hybridsequential0_conv1_bias',\n",
      " 'hybridsequential0_conv1_fwd_output',\n",
      " 'hybridsequential0_conv1_relu_fwd_output',\n",
      " 'hybridsequential0_pool1_fwd_output',\n",
      " 'hybridsequential0_flatten0_reshape0_output',\n",
      " 'hybridsequential0_dense0_weight',\n",
      " 'hybridsequential0_dense0_bias',\n",
      " 'hybridsequential0_dense0_fwd_output',\n",
      " 'hybridsequential0_dense0_relu_fwd_output',\n",
      " 'hybridsequential0_dense1_weight',\n",
      " 'hybridsequential0_dense1_bias',\n",
      " 'hybridsequential0_dense1_fwd_output']\n"
     ]
    }
   ],
   "source": [
    "data = mx.sym.Variable('data')\n",
    "sym = net(data)\n",
    "\n",
    "import pprint\n",
    "pprint.pprint(sym.get_internals().list_outputs())"
   ]
  },
  {
   "cell_type": "markdown",
   "metadata": {},
   "source": [
    "# Change Blocks to Symbols (And checking that it still works)"
   ]
  },
  {
   "cell_type": "code",
   "execution_count": 5,
   "metadata": {},
   "outputs": [
    {
     "name": "stdout",
     "output_type": "stream",
     "text": [
      "[5 0 4 1 9 2 1 3 1 4 3 5 3 6 1 7 2 8 6 9 4 0 9 1 1 2 4 3 2 7 3 8 6 9 0 5 6\n",
      " 0 7 6 1 8 7 9 3 9 8 5 5 3]\n",
      "[5 0 4 1 9 2 1 3 1 4 3 5 3 6 1 7 2 8 6 9 4 0 9 1 1 2 4 3 2 7 3 8 6 9 0 5 6\n",
      " 0 7 6 1 8 7 9 3 9 8 5 9 3]\n"
     ]
    }
   ],
   "source": [
    "def block2symbol(block):\n",
    "    data = mx.sym.Variable('data')\n",
    "    sym = block(data)\n",
    "    params = block.collect_params()\n",
    "    arg_params = {k : mx.nd.array(v.data().asnumpy()) for k, v in params.items()}\n",
    "    aux_params = {k : mx.nd.array(v.data().asnumpy()) for k, v in params.items()}\n",
    "    return sym, arg_params, aux_params\n",
    "\n",
    "# Converting gluon into module\n",
    "mx_sym, args, auxs = block2symbol(net)\n",
    "# Need name = softmax so that label_names can handle softmax_label\n",
    "mx_sym = mx.sym.SoftmaxOutput(data=mx_sym, name='softmax')\n",
    "model = mx.mod.Module(symbol = mx_sym, context = mx.cpu(), \n",
    "                       label_names = ['softmax_label'])\n",
    "model.bind(for_training=False,\n",
    "           data_shapes = data_iter.provide_data, \n",
    "           label_shapes = data_iter.provide_label)\n",
    "model.set_params(args, auxs)\n",
    "labels = mnist['train_label'][:50]\n",
    "data_iter.reset()\n",
    "print(np.argmax(model.predict(data_iter)[:50].asnumpy(), axis=1))\n",
    "print(labels)"
   ]
  },
  {
   "cell_type": "markdown",
   "metadata": {},
   "source": [
    "# Quantizing Parameters"
   ]
  },
  {
   "cell_type": "code",
   "execution_count": 6,
   "metadata": {},
   "outputs": [],
   "source": [
    "# Excluding conv0: mkldnn cannot handle channels % 4 != 0.\n",
    "\n",
    "# Excluding everything else: Apparently some ops are not registered:\n",
    "# Upon bind:\n",
    "# [19:24:33] src/executor/attach_op_execs_pass.cc:336: Neither FCompute nor FComputeEx registered _contrib_quantized_fully_connected\n",
    "# [19:24:33] src/executor/attach_op_execs_pass.cc:336: Neither FCompute nor FComputeEx registered _contrib_quantized_fully_connected\n",
    "# Segmentation fault: 11\n",
    "# Stack trace returned 10 entries:\n",
    "# [bt] (0) 0   libmxnet.so                         0x000000010a1066d4 libmxnet.so + 26324\n",
    "# [bt] (1) 1   libmxnet.so                         0x000000010b78d836 MXTVMBridge + 3974902\n",
    "# [bt] (2) 2   libsystem_platform.dylib            0x00000001018d9f5a _sigtramp + 26\n",
    "# [bt] (3) 3   ???                                 0x0000000000000002 0x0 + 2\n",
    "# [bt] (4) 4   libmxnet.so                         0x000000010b23592c MXNDListFree + 146732\n",
    "# [bt] (5) 5   libmxnet.so                         0x000000010b241803 MXNDListFree + 195587\n",
    "# [bt] (6) 6   libmxnet.so                         0x000000010b24cf54 MXNDListFree + 242516\n",
    "# [bt] (7) 7   libmxnet.so                         0x000000010b25210a MXNDListFree + 263434\n",
    "# [bt] (8) 8   libmxnet.so                         0x000000010b1dcad0 MXExecutorSimpleBind + 8656\n",
    "# [bt] (9) 9   _ctypes.cpython-36m-darwin.so       0x000000010767fd17 ffi_call_unix64 + 79\n",
    "qsym, qarg_params, qaux_params = mx.contrib.quantization.quantize_model(\n",
    "        sym=model._symbol, \n",
    "        arg_params=model._arg_params, \n",
    "        aux_params=model._aux_params,\n",
    "        excluded_sym_names=['hybridsequential0_conv0_fwd',\n",
    "                           'hybridsequential0_dense0_fwd',\n",
    "                           'hybridsequential0_dense1_fwd',\n",
    "                          ],\n",
    "        ctx=ctx, \n",
    "        calib_data=data_iter,\n",
    "    )"
   ]
  },
  {
   "cell_type": "code",
   "execution_count": 8,
   "metadata": {},
   "outputs": [
    {
     "ename": "NameError",
     "evalue": "name 'qsym' is not defined",
     "output_type": "error",
     "traceback": [
      "\u001b[0;31m---------------------------------------------------------------------------\u001b[0m",
      "\u001b[0;31mNameError\u001b[0m                                 Traceback (most recent call last)",
      "\u001b[0;32m<ipython-input-8-0674bf83d71e>\u001b[0m in \u001b[0;36m<module>\u001b[0;34m()\u001b[0m\n\u001b[1;32m      1\u001b[0m \u001b[0;32mimport\u001b[0m \u001b[0mpprint\u001b[0m\u001b[0;34m\u001b[0m\u001b[0m\n\u001b[0;32m----> 2\u001b[0;31m \u001b[0mpprint\u001b[0m\u001b[0;34m.\u001b[0m\u001b[0mpprint\u001b[0m\u001b[0;34m(\u001b[0m\u001b[0mqsym\u001b[0m\u001b[0;34m.\u001b[0m\u001b[0mget_internals\u001b[0m\u001b[0;34m(\u001b[0m\u001b[0;34m)\u001b[0m\u001b[0;34m.\u001b[0m\u001b[0mlist_outputs\u001b[0m\u001b[0;34m(\u001b[0m\u001b[0;34m)\u001b[0m\u001b[0;34m)\u001b[0m\u001b[0;34m\u001b[0m\u001b[0m\n\u001b[0m",
      "\u001b[0;31mNameError\u001b[0m: name 'qsym' is not defined"
     ]
    }
   ],
   "source": [
    "import pprint\n",
    "pprint.pprint(qsym.get_internals().list_outputs())"
   ]
  },
  {
   "cell_type": "code",
   "execution_count": 8,
   "metadata": {},
   "outputs": [
    {
     "name": "stdout",
     "output_type": "stream",
     "text": [
      "dtype of hybridsequential0_conv0_weight : <class 'numpy.float32'>\n",
      "dtype of hybridsequential0_conv0_bias : <class 'numpy.float32'>\n",
      "dtype of hybridsequential0_conv1_weight_quantize : <class 'numpy.int8'>\n",
      "dtype of hybridsequential0_conv1_weight_quantize_min : <class 'numpy.float32'>\n",
      "dtype of hybridsequential0_conv1_weight_quantize_max : <class 'numpy.float32'>\n",
      "dtype of hybridsequential0_conv1_bias_quantize : <class 'numpy.int8'>\n",
      "dtype of hybridsequential0_conv1_bias_quantize_min : <class 'numpy.float32'>\n",
      "dtype of hybridsequential0_conv1_bias_quantize_max : <class 'numpy.float32'>\n",
      "dtype of hybridsequential0_dense0_weight : <class 'numpy.float32'>\n",
      "dtype of hybridsequential0_dense0_bias : <class 'numpy.float32'>\n",
      "dtype of hybridsequential0_dense1_weight : <class 'numpy.float32'>\n",
      "dtype of hybridsequential0_dense1_bias : <class 'numpy.float32'>\n"
     ]
    }
   ],
   "source": [
    "for k in qarg_params:\n",
    "    print(\"dtype of {} : {}\".format(k, qarg_params[k].dtype))"
   ]
  },
  {
   "cell_type": "markdown",
   "metadata": {},
   "source": [
    "# Creating the Module with Quantized Symbols"
   ]
  },
  {
   "cell_type": "code",
   "execution_count": 9,
   "metadata": {},
   "outputs": [],
   "source": [
    "qmodel = mx.mod.Module(symbol = qsym, context = mx.cpu())"
   ]
  },
  {
   "cell_type": "markdown",
   "metadata": {},
   "source": [
    "# Preparing to `predict`\n",
    "\n",
    "## Binding with same `data_iter` as before"
   ]
  },
  {
   "cell_type": "code",
   "execution_count": 10,
   "metadata": {},
   "outputs": [],
   "source": [
    "qmodel.bind(for_training=False,\n",
    "           data_shapes = data_iter.provide_data, \n",
    "           label_shapes = data_iter.provide_label)"
   ]
  },
  {
   "cell_type": "markdown",
   "metadata": {},
   "source": [
    "## Setting parameters to quantized params"
   ]
  },
  {
   "cell_type": "code",
   "execution_count": 12,
   "metadata": {},
   "outputs": [],
   "source": [
    "qmodel.set_params(qarg_params, qaux_params)"
   ]
  },
  {
   "cell_type": "markdown",
   "metadata": {},
   "source": [
    "# Trying to predict gives an error..."
   ]
  },
  {
   "cell_type": "code",
   "execution_count": 13,
   "metadata": {},
   "outputs": [
    {
     "ename": "MXNetError",
     "evalue": "[19:31:04] src/operator/quantization/mkldnn/mkldnn_quantized_conv.cc:41: Check failed: in_data[0].dtype() == mshadow::kUint8 (5 vs. 3) mkldnn_quantized_conv op only supports uint8 as input type\n\nStack trace returned 10 entries:\n[bt] (0) 0   libmxnet.so                         0x0000000109a056d4 libmxnet.so + 26324\n[bt] (1) 1   libmxnet.so                         0x0000000109a0548f libmxnet.so + 25743\n[bt] (2) 2   libmxnet.so                         0x0000000109a3a093 libmxnet.so + 241811\n[bt] (3) 3   libmxnet.so                         0x000000010ab57745 MXNDListFree + 289605\n[bt] (4) 4   libmxnet.so                         0x000000010ab233fc MXNDListFree + 75772\n[bt] (5) 5   libmxnet.so                         0x000000010ab26931 MXNDListFree + 89393\n[bt] (6) 6   libmxnet.so                         0x000000010ab26847 MXNDListFree + 89159\n[bt] (7) 7   libmxnet.so                         0x000000010ab24175 MXNDListFree + 79221\n[bt] (8) 8   libsystem_pthread.dylib             0x00000001018eb661 _pthread_body + 340\n[bt] (9) 9   libsystem_pthread.dylib             0x00000001018eb50d _pthread_body + 0\n\n",
     "output_type": "error",
     "traceback": [
      "\u001b[0;31m---------------------------------------------------------------------------\u001b[0m",
      "\u001b[0;31mMXNetError\u001b[0m                                Traceback (most recent call last)",
      "\u001b[0;32m~/anaconda3/envs/idp3/lib/python3.6/site-packages/IPython/core/formatters.py\u001b[0m in \u001b[0;36m__call__\u001b[0;34m(self, obj)\u001b[0m\n\u001b[1;32m    700\u001b[0m                 \u001b[0mtype_pprinters\u001b[0m\u001b[0;34m=\u001b[0m\u001b[0mself\u001b[0m\u001b[0;34m.\u001b[0m\u001b[0mtype_printers\u001b[0m\u001b[0;34m,\u001b[0m\u001b[0;34m\u001b[0m\u001b[0m\n\u001b[1;32m    701\u001b[0m                 deferred_pprinters=self.deferred_printers)\n\u001b[0;32m--> 702\u001b[0;31m             \u001b[0mprinter\u001b[0m\u001b[0;34m.\u001b[0m\u001b[0mpretty\u001b[0m\u001b[0;34m(\u001b[0m\u001b[0mobj\u001b[0m\u001b[0;34m)\u001b[0m\u001b[0;34m\u001b[0m\u001b[0m\n\u001b[0m\u001b[1;32m    703\u001b[0m             \u001b[0mprinter\u001b[0m\u001b[0;34m.\u001b[0m\u001b[0mflush\u001b[0m\u001b[0;34m(\u001b[0m\u001b[0;34m)\u001b[0m\u001b[0;34m\u001b[0m\u001b[0m\n\u001b[1;32m    704\u001b[0m             \u001b[0;32mreturn\u001b[0m \u001b[0mstream\u001b[0m\u001b[0;34m.\u001b[0m\u001b[0mgetvalue\u001b[0m\u001b[0;34m(\u001b[0m\u001b[0;34m)\u001b[0m\u001b[0;34m\u001b[0m\u001b[0m\n",
      "\u001b[0;32m~/anaconda3/envs/idp3/lib/python3.6/site-packages/IPython/lib/pretty.py\u001b[0m in \u001b[0;36mpretty\u001b[0;34m(self, obj)\u001b[0m\n\u001b[1;32m    398\u001b[0m                         \u001b[0;32mif\u001b[0m \u001b[0mcls\u001b[0m \u001b[0;32mis\u001b[0m \u001b[0;32mnot\u001b[0m \u001b[0mobject\u001b[0m\u001b[0;31m \u001b[0m\u001b[0;31m\\\u001b[0m\u001b[0;34m\u001b[0m\u001b[0m\n\u001b[1;32m    399\u001b[0m                                 \u001b[0;32mand\u001b[0m \u001b[0mcallable\u001b[0m\u001b[0;34m(\u001b[0m\u001b[0mcls\u001b[0m\u001b[0;34m.\u001b[0m\u001b[0m__dict__\u001b[0m\u001b[0;34m.\u001b[0m\u001b[0mget\u001b[0m\u001b[0;34m(\u001b[0m\u001b[0;34m'__repr__'\u001b[0m\u001b[0;34m)\u001b[0m\u001b[0;34m)\u001b[0m\u001b[0;34m:\u001b[0m\u001b[0;34m\u001b[0m\u001b[0m\n\u001b[0;32m--> 400\u001b[0;31m                             \u001b[0;32mreturn\u001b[0m \u001b[0m_repr_pprint\u001b[0m\u001b[0;34m(\u001b[0m\u001b[0mobj\u001b[0m\u001b[0;34m,\u001b[0m \u001b[0mself\u001b[0m\u001b[0;34m,\u001b[0m \u001b[0mcycle\u001b[0m\u001b[0;34m)\u001b[0m\u001b[0;34m\u001b[0m\u001b[0m\n\u001b[0m\u001b[1;32m    401\u001b[0m \u001b[0;34m\u001b[0m\u001b[0m\n\u001b[1;32m    402\u001b[0m             \u001b[0;32mreturn\u001b[0m \u001b[0m_default_pprint\u001b[0m\u001b[0;34m(\u001b[0m\u001b[0mobj\u001b[0m\u001b[0;34m,\u001b[0m \u001b[0mself\u001b[0m\u001b[0;34m,\u001b[0m \u001b[0mcycle\u001b[0m\u001b[0;34m)\u001b[0m\u001b[0;34m\u001b[0m\u001b[0m\n",
      "\u001b[0;32m~/anaconda3/envs/idp3/lib/python3.6/site-packages/IPython/lib/pretty.py\u001b[0m in \u001b[0;36m_repr_pprint\u001b[0;34m(obj, p, cycle)\u001b[0m\n\u001b[1;32m    693\u001b[0m     \u001b[0;34m\"\"\"A pprint that just redirects to the normal repr function.\"\"\"\u001b[0m\u001b[0;34m\u001b[0m\u001b[0m\n\u001b[1;32m    694\u001b[0m     \u001b[0;31m# Find newlines and replace them with p.break_()\u001b[0m\u001b[0;34m\u001b[0m\u001b[0;34m\u001b[0m\u001b[0m\n\u001b[0;32m--> 695\u001b[0;31m     \u001b[0moutput\u001b[0m \u001b[0;34m=\u001b[0m \u001b[0mrepr\u001b[0m\u001b[0;34m(\u001b[0m\u001b[0mobj\u001b[0m\u001b[0;34m)\u001b[0m\u001b[0;34m\u001b[0m\u001b[0m\n\u001b[0m\u001b[1;32m    696\u001b[0m     \u001b[0;32mfor\u001b[0m \u001b[0midx\u001b[0m\u001b[0;34m,\u001b[0m\u001b[0moutput_line\u001b[0m \u001b[0;32min\u001b[0m \u001b[0menumerate\u001b[0m\u001b[0;34m(\u001b[0m\u001b[0moutput\u001b[0m\u001b[0;34m.\u001b[0m\u001b[0msplitlines\u001b[0m\u001b[0;34m(\u001b[0m\u001b[0;34m)\u001b[0m\u001b[0;34m)\u001b[0m\u001b[0;34m:\u001b[0m\u001b[0;34m\u001b[0m\u001b[0m\n\u001b[1;32m    697\u001b[0m         \u001b[0;32mif\u001b[0m \u001b[0midx\u001b[0m\u001b[0;34m:\u001b[0m\u001b[0;34m\u001b[0m\u001b[0m\n",
      "\u001b[0;32m~/anaconda3/envs/idp3/lib/python3.6/site-packages/mxnet/ndarray/ndarray.py\u001b[0m in \u001b[0;36m__repr__\u001b[0;34m(self)\u001b[0m\n\u001b[1;32m    187\u001b[0m         \u001b[0;34m\"\"\"Returns a string representation of the array.\"\"\"\u001b[0m\u001b[0;34m\u001b[0m\u001b[0m\n\u001b[1;32m    188\u001b[0m         \u001b[0mshape_info\u001b[0m \u001b[0;34m=\u001b[0m \u001b[0;34m'x'\u001b[0m\u001b[0;34m.\u001b[0m\u001b[0mjoin\u001b[0m\u001b[0;34m(\u001b[0m\u001b[0;34m[\u001b[0m\u001b[0;34m'%d'\u001b[0m \u001b[0;34m%\u001b[0m \u001b[0mx\u001b[0m \u001b[0;32mfor\u001b[0m \u001b[0mx\u001b[0m \u001b[0;32min\u001b[0m \u001b[0mself\u001b[0m\u001b[0;34m.\u001b[0m\u001b[0mshape\u001b[0m\u001b[0;34m]\u001b[0m\u001b[0;34m)\u001b[0m\u001b[0;34m\u001b[0m\u001b[0m\n\u001b[0;32m--> 189\u001b[0;31m         return '\\n%s\\n<%s %s @%s>' % (str(self.asnumpy()),\n\u001b[0m\u001b[1;32m    190\u001b[0m                                       \u001b[0mself\u001b[0m\u001b[0;34m.\u001b[0m\u001b[0m__class__\u001b[0m\u001b[0;34m.\u001b[0m\u001b[0m__name__\u001b[0m\u001b[0;34m,\u001b[0m\u001b[0;34m\u001b[0m\u001b[0m\n\u001b[1;32m    191\u001b[0m                                       shape_info, self.context)\n",
      "\u001b[0;32m~/anaconda3/envs/idp3/lib/python3.6/site-packages/mxnet/ndarray/ndarray.py\u001b[0m in \u001b[0;36masnumpy\u001b[0;34m(self)\u001b[0m\n\u001b[1;32m   1908\u001b[0m             \u001b[0mself\u001b[0m\u001b[0;34m.\u001b[0m\u001b[0mhandle\u001b[0m\u001b[0;34m,\u001b[0m\u001b[0;34m\u001b[0m\u001b[0m\n\u001b[1;32m   1909\u001b[0m             \u001b[0mdata\u001b[0m\u001b[0;34m.\u001b[0m\u001b[0mctypes\u001b[0m\u001b[0;34m.\u001b[0m\u001b[0mdata_as\u001b[0m\u001b[0;34m(\u001b[0m\u001b[0mctypes\u001b[0m\u001b[0;34m.\u001b[0m\u001b[0mc_void_p\u001b[0m\u001b[0;34m)\u001b[0m\u001b[0;34m,\u001b[0m\u001b[0;34m\u001b[0m\u001b[0m\n\u001b[0;32m-> 1910\u001b[0;31m             ctypes.c_size_t(data.size)))\n\u001b[0m\u001b[1;32m   1911\u001b[0m         \u001b[0;32mreturn\u001b[0m \u001b[0mdata\u001b[0m\u001b[0;34m\u001b[0m\u001b[0m\n\u001b[1;32m   1912\u001b[0m \u001b[0;34m\u001b[0m\u001b[0m\n",
      "\u001b[0;32m~/anaconda3/envs/idp3/lib/python3.6/site-packages/mxnet/base.py\u001b[0m in \u001b[0;36mcheck_call\u001b[0;34m(ret)\u001b[0m\n\u001b[1;32m    208\u001b[0m     \"\"\"\n\u001b[1;32m    209\u001b[0m     \u001b[0;32mif\u001b[0m \u001b[0mret\u001b[0m \u001b[0;34m!=\u001b[0m \u001b[0;36m0\u001b[0m\u001b[0;34m:\u001b[0m\u001b[0;34m\u001b[0m\u001b[0m\n\u001b[0;32m--> 210\u001b[0;31m         \u001b[0;32mraise\u001b[0m \u001b[0mMXNetError\u001b[0m\u001b[0;34m(\u001b[0m\u001b[0mpy_str\u001b[0m\u001b[0;34m(\u001b[0m\u001b[0m_LIB\u001b[0m\u001b[0;34m.\u001b[0m\u001b[0mMXGetLastError\u001b[0m\u001b[0;34m(\u001b[0m\u001b[0;34m)\u001b[0m\u001b[0;34m)\u001b[0m\u001b[0;34m)\u001b[0m\u001b[0;34m\u001b[0m\u001b[0m\n\u001b[0m\u001b[1;32m    211\u001b[0m \u001b[0;34m\u001b[0m\u001b[0m\n\u001b[1;32m    212\u001b[0m \u001b[0;34m\u001b[0m\u001b[0m\n",
      "\u001b[0;31mMXNetError\u001b[0m: [19:31:04] src/operator/quantization/mkldnn/mkldnn_quantized_conv.cc:41: Check failed: in_data[0].dtype() == mshadow::kUint8 (5 vs. 3) mkldnn_quantized_conv op only supports uint8 as input type\n\nStack trace returned 10 entries:\n[bt] (0) 0   libmxnet.so                         0x0000000109a056d4 libmxnet.so + 26324\n[bt] (1) 1   libmxnet.so                         0x0000000109a0548f libmxnet.so + 25743\n[bt] (2) 2   libmxnet.so                         0x0000000109a3a093 libmxnet.so + 241811\n[bt] (3) 3   libmxnet.so                         0x000000010ab57745 MXNDListFree + 289605\n[bt] (4) 4   libmxnet.so                         0x000000010ab233fc MXNDListFree + 75772\n[bt] (5) 5   libmxnet.so                         0x000000010ab26931 MXNDListFree + 89393\n[bt] (6) 6   libmxnet.so                         0x000000010ab26847 MXNDListFree + 89159\n[bt] (7) 7   libmxnet.so                         0x000000010ab24175 MXNDListFree + 79221\n[bt] (8) 8   libsystem_pthread.dylib             0x00000001018eb661 _pthread_body + 340\n[bt] (9) 9   libsystem_pthread.dylib             0x00000001018eb50d _pthread_body + 0\n\n"
     ]
    }
   ],
   "source": [
    "qmodel.predict(data_iter)"
   ]
  }
 ],
 "metadata": {
  "kernelspec": {
   "display_name": "Python 3",
   "language": "python",
   "name": "python3"
  },
  "language_info": {
   "codemirror_mode": {
    "name": "ipython",
    "version": 3
   },
   "file_extension": ".py",
   "mimetype": "text/x-python",
   "name": "python",
   "nbconvert_exporter": "python",
   "pygments_lexer": "ipython3",
   "version": "3.6.3"
  }
 },
 "nbformat": 4,
 "nbformat_minor": 2
}
